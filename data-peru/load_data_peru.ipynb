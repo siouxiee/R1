{
 "cells": [
  {
   "cell_type": "code",
   "execution_count": null,
   "metadata": {},
   "outputs": [],
   "source": [
    "import pandas as pd\n",
    "import numpy as np\n",
    "import os\n",
    "%pip install GEOparse\n",
    "import GEOparse"
   ]
  },
  {
   "cell_type": "code",
   "execution_count": null,
   "metadata": {},
   "outputs": [],
   "source": [
    "df_tumoral_notumoral = GEOparse.get_GEO(\"GSE136247\",destdir=\"./tumoral-no-tumoral/\")"
   ]
  },
  {
   "cell_type": "code",
   "execution_count": null,
   "metadata": {},
   "outputs": [],
   "source": [
    "df_tumoral_notumoral.metadata"
   ]
  },
  {
   "cell_type": "code",
   "execution_count": null,
   "metadata": {},
   "outputs": [],
   "source": [
    "\n",
    "for name, extra in df_tumoral_notumoral.gsms.items():\n",
    "    name = name.strip('\\n')\n",
    "    print('\\t\\t'+name+' transferred\\n')\n",
    "    output_path = os.path.join(\"./tumoral-no-tumoral/\", name + '.txt')\n",
    "    df_tumoral_notumoral.gsms[name].table.to_csv(output_path, index = None, sep = '\\t', mode = 'w')"
   ]
  },
  {
   "cell_type": "code",
   "execution_count": null,
   "metadata": {},
   "outputs": [],
   "source": [
    "df_notumoral = GEOparse.get_GEO(\"GSE111580\",destdir=\"./no-tumoral/\")"
   ]
  },
  {
   "cell_type": "code",
   "execution_count": null,
   "metadata": {},
   "outputs": [],
   "source": [
    "df_notumoral.metadata"
   ]
  },
  {
   "cell_type": "code",
   "execution_count": null,
   "metadata": {},
   "outputs": [],
   "source": [
    "for name, extra in df_tumoral_notumoral.gsms.items():\n",
    "    name = name.strip('\\n')\n",
    "    print('\\t\\t'+name+' transferred\\n')\n",
    "    output_path = os.path.join(\"./no-tumoral/\", name + '.txt')\n",
    "    df_tumoral_notumoral.gsms[name].table.to_csv(output_path, index = None, sep = '\\t', mode = 'w')"
   ]
  }
 ],
 "metadata": {
  "language_info": {
   "name": "python"
  }
 },
 "nbformat": 4,
 "nbformat_minor": 2
}
